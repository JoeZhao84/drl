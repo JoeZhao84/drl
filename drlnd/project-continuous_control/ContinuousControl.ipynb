{
 "cells": [
  {
   "cell_type": "markdown",
   "metadata": {},
   "source": [
    "# Continuous Control\n",
    "\n",
    "---\n",
    "\n",
    "You are welcome to use this coding environment to train your agent for the project.  Follow the instructions below to get started!\n",
    "\n",
    "### 1. Start the Environment\n",
    "\n",
    "Run the next code cell to install a few packages.  This line will take a few minutes to run!"
   ]
  },
  {
   "cell_type": "code",
   "execution_count": 4,
   "metadata": {},
   "outputs": [],
   "source": [
    "!pip -q install ./python"
   ]
  },
  {
   "cell_type": "markdown",
   "metadata": {},
   "source": [
    "The environments corresponding to both versions of the environment are already saved in the Workspace and can be accessed at the file paths provided below.  \n",
    "\n",
    "Please select one of the two options below for loading the environment."
   ]
  },
  {
   "cell_type": "code",
   "execution_count": 5,
   "metadata": {},
   "outputs": [
    {
     "name": "stderr",
     "output_type": "stream",
     "text": [
      "INFO:unityagents:\n",
      "'Academy' started successfully!\n",
      "Unity Academy name: Academy\n",
      "        Number of Brains: 1\n",
      "        Number of External Brains : 1\n",
      "        Lesson number : 0\n",
      "        Reset Parameters :\n",
      "\t\tgoal_speed -> 1.0\n",
      "\t\tgoal_size -> 5.0\n",
      "Unity brain name: ReacherBrain\n",
      "        Number of Visual Observations (per agent): 0\n",
      "        Vector Observation space type: continuous\n",
      "        Vector Observation space size (per agent): 33\n",
      "        Number of stacked Vector Observation: 1\n",
      "        Vector Action space type: continuous\n",
      "        Vector Action space size (per agent): 4\n",
      "        Vector Action descriptions: , , , \n"
     ]
    }
   ],
   "source": [
    "from unityagents import UnityEnvironment\n",
    "import numpy as np\n",
    "import time\n",
    "\n",
    "# select this option to load version 1 (with a single agent) of the environment\n",
    "#env = UnityEnvironment(file_name='/data/Reacher_One_Linux_NoVis/Reacher_One_Linux_NoVis.x86_64')\n",
    "\n",
    "# select this option to load version 2 (with 20 agents) of the environment\n",
    "env = UnityEnvironment(file_name='/data/Reacher_Linux_NoVis/Reacher.x86_64')"
   ]
  },
  {
   "cell_type": "markdown",
   "metadata": {},
   "source": [
    "Environments contain **_brains_** which are responsible for deciding the actions of their associated agents. Here we check for the first brain available, and set it as the default brain we will be controlling from Python."
   ]
  },
  {
   "cell_type": "code",
   "execution_count": 6,
   "metadata": {},
   "outputs": [],
   "source": [
    "# get the default brain\n",
    "brain_name = env.brain_names[0] #'ReacherBrain'\n",
    "brain = env.brains[brain_name]"
   ]
  },
  {
   "cell_type": "code",
   "execution_count": 7,
   "metadata": {},
   "outputs": [
    {
     "data": {
      "text/plain": [
       "'ReacherBrain'"
      ]
     },
     "execution_count": 7,
     "metadata": {},
     "output_type": "execute_result"
    }
   ],
   "source": [
    "brain_name"
   ]
  },
  {
   "cell_type": "markdown",
   "metadata": {},
   "source": [
    "### 2. Examine the State and Action Spaces\n",
    "\n",
    "Run the code cell below to print some information about the environment."
   ]
  },
  {
   "cell_type": "code",
   "execution_count": 8,
   "metadata": {},
   "outputs": [
    {
     "name": "stdout",
     "output_type": "stream",
     "text": [
      "Number of agents: 20\n",
      "Size of each action: 4\n",
      "There are 20 agents. Each observes a state with length: 33\n",
      "The state for the first agent looks like: [  0.00000000e+00  -4.00000000e+00   0.00000000e+00   1.00000000e+00\n",
      "  -0.00000000e+00  -0.00000000e+00  -4.37113883e-08   0.00000000e+00\n",
      "   0.00000000e+00   0.00000000e+00   0.00000000e+00   0.00000000e+00\n",
      "   0.00000000e+00   0.00000000e+00  -1.00000000e+01   0.00000000e+00\n",
      "   1.00000000e+00  -0.00000000e+00  -0.00000000e+00  -4.37113883e-08\n",
      "   0.00000000e+00   0.00000000e+00   0.00000000e+00   0.00000000e+00\n",
      "   0.00000000e+00   0.00000000e+00   5.75471878e+00  -1.00000000e+00\n",
      "   5.55726624e+00   0.00000000e+00   1.00000000e+00   0.00000000e+00\n",
      "  -1.68164849e-01]\n"
     ]
    }
   ],
   "source": [
    "# reset the environment\n",
    "env_info = env.reset(train_mode=True)[brain_name]\n",
    "\n",
    "# number of agents\n",
    "num_agents = len(env_info.agents)\n",
    "print('Number of agents:', num_agents)\n",
    "\n",
    "# size of each action\n",
    "action_size = brain.vector_action_space_size\n",
    "print('Size of each action:', action_size)\n",
    "\n",
    "# examine the state space \n",
    "states = env_info.vector_observations\n",
    "state_size = states.shape[1]\n",
    "print('There are {} agents. Each observes a state with length: {}'.format(states.shape[0], state_size))\n",
    "print('The state for the first agent looks like:', states[0])"
   ]
  },
  {
   "cell_type": "code",
   "execution_count": 9,
   "metadata": {},
   "outputs": [
    {
     "data": {
      "text/plain": [
       "array([  0.00000000e+00,  -4.00000000e+00,   0.00000000e+00,\n",
       "         1.00000000e+00,  -0.00000000e+00,  -0.00000000e+00,\n",
       "        -4.37113883e-08,   0.00000000e+00,   0.00000000e+00,\n",
       "         0.00000000e+00,   0.00000000e+00,   0.00000000e+00,\n",
       "         0.00000000e+00,   0.00000000e+00,  -1.00000000e+01,\n",
       "         0.00000000e+00,   1.00000000e+00,  -0.00000000e+00,\n",
       "        -0.00000000e+00,  -4.37113883e-08,   0.00000000e+00,\n",
       "         0.00000000e+00,   0.00000000e+00,   0.00000000e+00,\n",
       "         0.00000000e+00,   0.00000000e+00,   7.90150833e+00,\n",
       "        -1.00000000e+00,   1.25147438e+00,   0.00000000e+00,\n",
       "         1.00000000e+00,   0.00000000e+00,  -2.99753308e-01])"
      ]
     },
     "execution_count": 9,
     "metadata": {},
     "output_type": "execute_result"
    }
   ],
   "source": [
    "states[2]"
   ]
  },
  {
   "cell_type": "code",
   "execution_count": null,
   "metadata": {},
   "outputs": [],
   "source": []
  },
  {
   "cell_type": "markdown",
   "metadata": {},
   "source": [
    "### 3. Take Random Actions in the Environment\n",
    "\n",
    "In the next code cell, you will learn how to use the Python API to control the agent and receive feedback from the environment.\n",
    "\n",
    "Note that **in this coding environment, you will not be able to watch the agents while they are training**, and you should set `train_mode=True` to restart the environment."
   ]
  },
  {
   "cell_type": "code",
   "execution_count": 8,
   "metadata": {},
   "outputs": [],
   "source": [
    "#env_info = env.reset(train_mode=True)[brain_name]      # reset the environment    \n",
    "#states = env_info.vector_observations                  # get the current state (for each agent)\n",
    "#scores = np.zeros(num_agents)                          # initialize the score (for each agent)\n",
    "\n",
    "#while True:\n",
    "#    actions = np.random.randn(num_agents, action_size) # select an action (for each agent)\n",
    "#    actions = np.clip(actions, -1, 1)                  # all actions between -1 and 1\n",
    "#    env_info = env.step(actions)[brain_name]           # send all actions to tne environment\n",
    "#    next_states = env_info.vector_observations         # get next state (for each agent)\n",
    "#    rewards = env_info.rewards                         # get reward (for each agent)\n",
    "#    dones = env_info.local_done                        # see if episode finished\n",
    "#    scores += env_info.rewards                         # update the score (for each agent)\n",
    "#    states = next_states                               # roll over states to next time step\n",
    "#    if np.any(dones):                                  # exit loop if episode finished\n",
    "#        break\n",
    "#print('Total score (averaged over agents) this episode: {}'.format(np.mean(scores)))"
   ]
  },
  {
   "cell_type": "code",
   "execution_count": 11,
   "metadata": {},
   "outputs": [],
   "source": [
    "import torch\n",
    "from collections import deque\n",
    "import matplotlib.pyplot as plt\n",
    "%matplotlib inline\n",
    "import ddpg_agent\n",
    "import importlib\n",
    "importlib.reload(ddpg_agent)\n",
    "from ddpg_agent import Agent"
   ]
  },
  {
   "cell_type": "code",
   "execution_count": 16,
   "metadata": {},
   "outputs": [],
   "source": []
  },
  {
   "cell_type": "code",
   "execution_count": 10,
   "metadata": {},
   "outputs": [],
   "source": [
    "agent = Agent(state_size=state_size, action_size=action_size, random_seed=5) "
   ]
  },
  {
   "cell_type": "code",
   "execution_count": 12,
   "metadata": {},
   "outputs": [],
   "source": [
    "# Load the saved weights into Pytorch model\n",
    "#agent.actor_local.load_state_dict(torch.load('checkpoint_actor_single_agent.pth', map_location='cpu'))\n",
    "#agent.critic_local.load_state_dict(torch.load('checkpoint_critic_single_agent.pth', map_location='cpu'))"
   ]
  },
  {
   "cell_type": "code",
   "execution_count": null,
   "metadata": {},
   "outputs": [],
   "source": [
    "def ddpg(n_episodes=3000, max_t=2000, print_every=50, learn_every=5, pass_score=30):\n",
    "    agent.hard_copy_weights(agent.actor_target, agent.actor_local)\n",
    "    agent.hard_copy_weights(agent.critic_target, agent.critic_local)\n",
    "    scores_deque = deque(maxlen=100)\n",
    "    scores = []\n",
    "    for i_episode in range(1, n_episodes+1):\n",
    "        #state = env.reset()\n",
    "        env_info = env.reset(train_mode=True)[brain_name]\n",
    "        state = env_info.vector_observations[0]\n",
    "        \n",
    "        agent.reset()\n",
    "        score = 0\n",
    "        for t in range(max_t):\n",
    "            action = agent.act(state)\n",
    "            #next_state, reward, done, _ = env.step(action)\n",
    "            env_info = env.step(action)[brain_name]\n",
    "            next_state = env_info.vector_observations[0]         # get next state (for each agent)\n",
    "            #print(next_state)\n",
    "            reward = env_info.rewards[0]                         # get reward (for each agent)\n",
    "            #print(reward)\n",
    "            done = env_info.local_done[0]\n",
    "            agent.step(state, action, reward, next_state, done)\n",
    "            state = next_state\n",
    "            #score += reward\n",
    "            score += reward\n",
    "            if t % learn_every == 0:\n",
    "                agent.to_learn(t)\n",
    "                \n",
    "            if done:\n",
    "                break \n",
    "        scores_deque.append(score)\n",
    "        scores.append(score)\n",
    "        \n",
    "        print('\\rEpisode {}\\tAverage Score: {:.2f}'.format(i_episode, np.mean(scores_deque)), end=\"\")\n",
    "        if i_episode % print_every == 0:\n",
    "            print('\\rEpisode {}\\tAverage Score: {:.2f}'.format(i_episode, np.mean(scores_deque)))\n",
    "            torch.save(agent.actor_local.state_dict(), 'checkpoint_actor_single_agent.pth')\n",
    "            torch.save(agent.critic_local.state_dict(), 'checkpoint_critic_single_agent.pth')\n",
    "        if np.mean(scores_deque) >= pass_score and i_episode >= 50:\n",
    "            print('Problem Solved after {} epsisodes!! Total Average score: {:.2f}'.format(i_episode, np.mean(scores_deque)))\n",
    "            torch.save(agent.actor_local.state_dict(), 'checkpoint_actor_multi_agents_solved.pth')\n",
    "            torch.save(agent.critic_local.state_dict(), 'checkpoint_critic_multi_agents_solved.pth')\n",
    "            break    \n",
    "    return scores\n",
    "\n",
    "scores = ddpg()\n",
    "\n"
   ]
  },
  {
   "cell_type": "code",
   "execution_count": 15,
   "metadata": {},
   "outputs": [
    {
     "data": {
      "image/png": "[encoded data removed]",
      "text/plain": [
       "<matplotlib.figure.Figure at 0x7fcbe7cbb4e0>"
      ]
     },
     "metadata": {
      "needs_background": "light"
     },
     "output_type": "display_data"
    }
   ],
   "source": [
    "#scores = ddpg()\n",
    "\n",
    "fig = plt.figure()\n",
    "ax = fig.add_subplot(111)\n",
    "plt.plot(np.arange(1, len(scores)+1), scores)\n",
    "plt.ylabel('Score')\n",
    "plt.xlabel('Episode #')\n",
    "plt.show()"
   ]
  },
  {
   "cell_type": "code",
   "execution_count": 18,
   "metadata": {},
   "outputs": [],
   "source": [
    "import torch\n",
    "from collections import deque\n",
    "import matplotlib.pyplot as plt\n",
    "%matplotlib inline\n",
    "import ddpg_agent1\n",
    "import importlib\n",
    "importlib.reload(ddpg_agent1)\n",
    "from ddpg_agent1 import Agent \n"
   ]
  },
  {
   "cell_type": "code",
   "execution_count": 11,
   "metadata": {},
   "outputs": [],
   "source": [
    "agent = Agent(state_size=state_size, action_size=action_size, random_seed=5) #randon_seed=4 was awful..."
   ]
  },
  {
   "cell_type": "code",
   "execution_count": 12,
   "metadata": {},
   "outputs": [],
   "source": [
    "# Load the saved weights into Pytorch model\n",
    "#agent.actor_local.load_state_dict(torch.load('checkpoint_actor_multi_agents3.pth', map_location='cpu'))\n",
    "#agent.critic_local.load_state_dict(torch.load('checkpoint_critic_multi_agents3.pth', map_location='cpu'))"
   ]
  },
  {
   "cell_type": "code",
   "execution_count": null,
   "metadata": {},
   "outputs": [],
   "source": [
    "\n"
   ]
  },
  {
   "cell_type": "code",
   "execution_count": 14,
   "metadata": {},
   "outputs": [
    {
     "name": "stdout",
     "output_type": "stream",
     "text": [
      "Episode 25      Average Score: 26.93    Time Spent: 99.13\n",
      "Episode 50      Average Score: 26.87    Time Spent: 111.34\n",
      "Episode 75      Average Score: 27.34    Time Spent: 124.63\n",
      "Episode 100     Average Score: 28.57    Time Spent: 149.13\n",
      "Episode 125     Average Score: 29.33    Time Spent: 178.52\n",
      "Episode 140     Average Score: 30.02    Time Spent: 180.38Problem Solved after 140 episodes!! Total Average score: 30.02\n"
     ]
    }
   ],
   "source": [
    "#For multi agent\n",
    "def ddpg_parallel1(n_episodes=100, max_t=1000, print_every=25, learn_every=20, num_learn=10, num_agents = num_agents, pass_score=30):\n",
    "    agent.hard_copy_weights(agent.actor_target, agent.actor_local)\n",
    "    agent.hard_copy_weights(agent.critic_target, agent.critic_local)\n",
    "    \n",
    "    all_scores_deque = deque(maxlen=100)\n",
    "    all_scores = []\n",
    "    for i_episode in range(1, n_episodes+1):\n",
    "        #state = env.reset()\n",
    "        env_info = env.reset(train_mode=True)[brain_name]\n",
    "        states = env_info.vector_observations\n",
    "        \n",
    "        agent.reset()\n",
    "        scores = np.zeros(num_agents)\n",
    "        \n",
    "        start_time = time.time()\n",
    "        for t in range(max_t):\n",
    "            actions = agent.act(states)\n",
    "            #next_state, reward, done, _ = env.step(action)\n",
    "            env_info = env.step(actions)[brain_name]\n",
    "            next_states = env_info.vector_observations         # get next state (for each agent)\n",
    "            #print(next_state)\n",
    "            rewards = env_info.rewards                         # get reward (for each agent)\n",
    "            #print(reward)\n",
    "            dones = env_info.local_done\n",
    "            #ts = np.asarray([t]*num_agents)\n",
    "            \n",
    "            for state, action, reward, next_state, done in zip(states, actions, rewards, next_states, dones):\n",
    "                agent.step(state, action, reward, next_state, done) # send actions to the agent\n",
    "            #agent.step(states, actions, rewards, next_states, dones, t)\n",
    "            states = next_states\n",
    "            #score += reward\n",
    "            scores += rewards\n",
    "            \n",
    "            agent.to_learn(t)\n",
    "            \n",
    "            if np.any(dones):\n",
    "                break \n",
    "                \n",
    "        all_scores_deque.append(np.mean(scores))\n",
    "        all_scores.append(np.mean(scores))\n",
    "        time_spent = time.time() - start_time\n",
    "        print('\\rEpisode {}\\tAverage Score: {:.2f}\\tTime Spent: {:.2f}'.format(i_episode, np.mean(all_scores_deque), time_spent), end=\"\")\n",
    "\n",
    "        if i_episode % print_every == 0:\n",
    "            print('\\rEpisode {}\\tAverage Score: {:.2f}'.format(i_episode, np.mean(all_scores_deque)))\n",
    "            torch.save(agent.actor_local.state_dict(), 'checkpoint_actor_multi_agents4.pth')\n",
    "            torch.save(agent.critic_local.state_dict(), 'checkpoint_critic_multi_agents4.pth')\n",
    "        if np.mean(all_scores_deque) >= pass_score and i_episode >= 100:\n",
    "            print('Problem Solved after {} episodes!! Total Average score: {:.2f}'.format(i_episode, np.mean(all_scores_deque)))\n",
    "            torch.save(agent.actor_local.state_dict(), 'checkpoint_actor_multi_agents_solved.pth')\n",
    "            torch.save(agent.critic_local.state_dict(), 'checkpoint_critic_multi_agents_solved.pth')\n",
    "            break    \n",
    "    return all_scores\n",
    "\n",
    "scores = ddpg_parallel1(500)"
   ]
  },
  {
   "cell_type": "code",
   "execution_count": 15,
   "metadata": {},
   "outputs": [
    {
     "data": {
      "text/plain": [
       "array([ 32.88999926,  31.4299993 ,  32.94999926,  31.83999929,\n",
       "        35.30999921,  31.5299993 ,  28.82999936,  36.70999918,\n",
       "        35.12999921,  26.12999942,  34.69999922,  24.16999946,\n",
       "        30.89999931,  26.21999941,  30.96999931,  28.36999937,\n",
       "        31.0999993 ,  31.80999929,  30.27999932,  37.87999915])"
      ]
     },
     "execution_count": 15,
     "metadata": {},
     "output_type": "execute_result"
    }
   ],
   "source": [
    "scores"
   ]
  },
  {
   "cell_type": "code",
   "execution_count": 22,
   "metadata": {},
   "outputs": [
    {
     "data": {
      "image/png": "[encoded data removed]",
      "text/plain": [
       "<matplotlib.figure.Figure at 0x7fad986a4dd8>"
      ]
     },
     "metadata": {
      "needs_background": "light"
     },
     "output_type": "display_data"
    }
   ],
   "source": [
    "sns.distplot(scores, kde=False, rug=True);"
   ]
  },
  {
   "cell_type": "markdown",
   "metadata": {},
   "source": [
    "When finished, you can close the environment."
   ]
  },
  {
   "cell_type": "code",
   "execution_count": null,
   "metadata": {},
   "outputs": [],
   "source": [
    "env.close()"
   ]
  },
  {
   "cell_type": "markdown",
   "metadata": {},
   "source": [
    "### 4. It's Your Turn!\n",
    "\n",
    "Now it's your turn to train your own agent to solve the environment!  A few **important notes**:\n",
    "- When training the environment, set `train_mode=True`, so that the line for resetting the environment looks like the following:\n",
    "```python\n",
    "env_info = env.reset(train_mode=True)[brain_name]\n",
    "```\n",
    "- To structure your work, you're welcome to work directly in this Jupyter notebook, or you might like to start over with a new file!  You can see the list of files in the workspace by clicking on **_Jupyter_** in the top left corner of the notebook.\n",
    "- In this coding environment, you will not be able to watch the agents while they are training.  However, **_after training the agents_**, you can download the saved model weights to watch the agents on your own machine! "
   ]
  },
  {
   "cell_type": "code",
   "execution_count": 12,
   "metadata": {},
   "outputs": [],
   "source": []
  },
  {
   "cell_type": "code",
   "execution_count": null,
   "metadata": {},
   "outputs": [],
   "source": []
  }
 ],
 "metadata": {
  "kernelspec": {
   "display_name": "Python 3",
   "language": "python",
   "name": "python3"
  },
  "language_info": {
   "codemirror_mode": {
    "name": "ipython",
    "version": 3
   },
   "file_extension": ".py",
   "mimetype": "text/x-python",
   "name": "python",
   "nbconvert_exporter": "python",
   "pygments_lexer": "ipython3",
   "version": "3.6.3"
  }
 },
 "nbformat": 4,
 "nbformat_minor": 2
}
