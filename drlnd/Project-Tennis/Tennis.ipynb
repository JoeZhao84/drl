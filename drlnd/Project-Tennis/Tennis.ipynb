{
 "cells": [
  {
   "cell_type": "markdown",
   "metadata": {},
   "source": [
    "# Collaboration and Competition\n",
    "\n",
    "---\n",
    "\n",
    "You are welcome to use this coding environment to train your agent for the project.  Follow the instructions below to get started!\n",
    "\n",
    "### 1. Start the Environment\n",
    "\n",
    "Run the next code cell to install a few packages.  This line will take a few minutes to run!"
   ]
  },
  {
   "cell_type": "code",
   "execution_count": 1,
   "metadata": {},
   "outputs": [],
   "source": [
    "!pip -q install ./python"
   ]
  },
  {
   "cell_type": "markdown",
   "metadata": {},
   "source": [
    "The environment is already saved in the Workspace and can be accessed at the file path provided below. "
   ]
  },
  {
   "cell_type": "code",
   "execution_count": 2,
   "metadata": {},
   "outputs": [
    {
     "name": "stderr",
     "output_type": "stream",
     "text": [
      "INFO:unityagents:\n",
      "'Academy' started successfully!\n",
      "Unity Academy name: Academy\n",
      "        Number of Brains: 1\n",
      "        Number of External Brains : 1\n",
      "        Lesson number : 0\n",
      "        Reset Parameters :\n",
      "\t\t\n",
      "Unity brain name: TennisBrain\n",
      "        Number of Visual Observations (per agent): 0\n",
      "        Vector Observation space type: continuous\n",
      "        Vector Observation space size (per agent): 8\n",
      "        Number of stacked Vector Observation: 3\n",
      "        Vector Action space type: continuous\n",
      "        Vector Action space size (per agent): 2\n",
      "        Vector Action descriptions: , \n"
     ]
    }
   ],
   "source": [
    "from unityagents import UnityEnvironment\n",
    "import numpy as np\n",
    "\n",
    "env = UnityEnvironment(file_name=\"/data/Tennis_Linux_NoVis/Tennis\")"
   ]
  },
  {
   "cell_type": "markdown",
   "metadata": {},
   "source": [
    "Environments contain **_brains_** which are responsible for deciding the actions of their associated agents. Here we check for the first brain available, and set it as the default brain we will be controlling from Python."
   ]
  },
  {
   "cell_type": "code",
   "execution_count": 3,
   "metadata": {},
   "outputs": [],
   "source": [
    "# get the default brain\n",
    "brain_name = env.brain_names[0]\n",
    "brain = env.brains[brain_name]"
   ]
  },
  {
   "cell_type": "markdown",
   "metadata": {},
   "source": [
    "### 2. Examine the State and Action Spaces\n",
    "\n",
    "Run the code cell below to print some information about the environment."
   ]
  },
  {
   "cell_type": "code",
   "execution_count": 4,
   "metadata": {},
   "outputs": [
    {
     "name": "stdout",
     "output_type": "stream",
     "text": [
      "Number of agents: 2\n",
      "Size of each action: 2\n",
      "There are 2 agents. Each observes a state with length: 24\n",
      "The state for the first agent looks like: [ 0.          0.          0.          0.          0.          0.          0.\n",
      "  0.          0.          0.          0.          0.          0.          0.\n",
      "  0.          0.         -6.65278625 -1.5        -0.          0.\n",
      "  6.83172083  6.         -0.          0.        ]\n"
     ]
    }
   ],
   "source": [
    "# reset the environment\n",
    "env_info = env.reset(train_mode=True)[brain_name]\n",
    "\n",
    "# number of agents \n",
    "num_agents = len(env_info.agents)\n",
    "print('Number of agents:', num_agents)\n",
    "\n",
    "# size of each action\n",
    "action_size = brain.vector_action_space_size\n",
    "print('Size of each action:', action_size)\n",
    "\n",
    "# examine the state space \n",
    "states = env_info.vector_observations\n",
    "state_size = states.shape[1]\n",
    "print('There are {} agents. Each observes a state with length: {}'.format(states.shape[0], state_size))\n",
    "print('The state for the first agent looks like:', states[0])"
   ]
  },
  {
   "cell_type": "code",
   "execution_count": 5,
   "metadata": {},
   "outputs": [
    {
     "name": "stdout",
     "output_type": "stream",
     "text": [
      "The state for the second agent looks like: [ 0.          0.          0.          0.          0.          0.          0.\n",
      "  0.          0.          0.          0.          0.          0.          0.\n",
      "  0.          0.         -6.4669857  -1.5         0.          0.\n",
      " -6.83172083  6.          0.          0.        ]\n"
     ]
    }
   ],
   "source": [
    "print('The state for the second agent looks like:', states[1])\n"
   ]
  },
  {
   "cell_type": "markdown",
   "metadata": {},
   "source": [
    "### 3. Take Random Actions in the Environment\n",
    "\n",
    "In the next code cell, you will learn how to use the Python API to control the agent and receive feedback from the environment.\n",
    "\n",
    "Note that **in this coding environment, you will not be able to watch the agents while they are training**, and you should set `train_mode=True` to restart the environment."
   ]
  },
  {
   "cell_type": "code",
   "execution_count": 6,
   "metadata": {},
   "outputs": [
    {
     "name": "stdout",
     "output_type": "stream",
     "text": [
      "Total score (averaged over agents) this episode: -0.004999999888241291\n",
      "Total score (averaged over agents) this episode: -0.004999999888241291\n",
      "Total score (averaged over agents) this episode: 0.04500000085681677\n",
      "Total score (averaged over agents) this episode: 0.04500000085681677\n",
      "Total score (averaged over agents) this episode: 0.04500000085681677\n"
     ]
    }
   ],
   "source": [
    "for i in range(5):                                         # play game for 5 episodes\n",
    "    env_info = env.reset(train_mode=False)[brain_name]     # reset the environment    \n",
    "    states = env_info.vector_observations                  # get the current state (for each agent)\n",
    "    scores = np.zeros(num_agents)                          # initialize the score (for each agent)\n",
    "    while True:\n",
    "        actions = np.random.randn(num_agents, action_size) # select an action (for each agent)\n",
    "        actions = np.clip(actions, -1, 1)                  # all actions between -1 and 1\n",
    "        env_info = env.step(actions)[brain_name]           # send all actions to tne environment\n",
    "        next_states = env_info.vector_observations         # get next state (for each agent)\n",
    "        rewards = env_info.rewards                         # get reward (for each agent)\n",
    "        dones = env_info.local_done                        # see if episode finished\n",
    "        scores += env_info.rewards                         # update the score (for each agent)\n",
    "        states = next_states                               # roll over states to next time step\n",
    "        if np.any(dones):                                  # exit loop if episode finished\n",
    "            break\n",
    "    print('Total score (averaged over agents) this episode: {}'.format(np.mean(scores)))"
   ]
  },
  {
   "cell_type": "code",
   "execution_count": 7,
   "metadata": {},
   "outputs": [
    {
     "data": {
      "text/plain": [
       "array([[-1.        , -0.50264711],\n",
       "       [-0.45938128, -0.29987242]])"
      ]
     },
     "execution_count": 7,
     "metadata": {},
     "output_type": "execute_result"
    }
   ],
   "source": [
    "actions"
   ]
  },
  {
   "cell_type": "markdown",
   "metadata": {},
   "source": [
    "When finished, you can close the environment."
   ]
  },
  {
   "cell_type": "code",
   "execution_count": 8,
   "metadata": {},
   "outputs": [],
   "source": [
    "#env.close()"
   ]
  },
  {
   "cell_type": "markdown",
   "metadata": {},
   "source": [
    "### 4. It's Your Turn!\n",
    "\n",
    "Now it's your turn to train your own agent to solve the environment!  A few **important notes**:\n",
    "- When training the environment, set `train_mode=True`, so that the line for resetting the environment looks like the following:\n",
    "```python\n",
    "env_info = env.reset(train_mode=True)[brain_name]\n",
    "```\n",
    "- To structure your work, you're welcome to work directly in this Jupyter notebook, or you might like to start over with a new file!  You can see the list of files in the workspace by clicking on **_Jupyter_** in the top left corner of the notebook.\n",
    "- In this coding environment, you will not be able to watch the agents while they are training.  However, **_after training the agents_**, you can download the saved model weights to watch the agents on your own machine! "
   ]
  },
  {
   "cell_type": "code",
   "execution_count": 14,
   "metadata": {},
   "outputs": [],
   "source": [
    "import time\n",
    "import torch\n",
    "import numpy as np\n",
    "#from tensorboardX import SummaryWriter\n",
    "from collections import deque\n",
    "import matplotlib.pyplot as plt\n",
    "from utilities import transpose_list, transpose_to_tensor\n",
    "\n",
    "# keep training awake\n",
    "from workspace_utils import keep_awake\n",
    "import ddpg_multi_agent\n",
    "import importlib\n",
    "importlib.reload(ddpg_multi_agent)\n",
    "from ddpg_multi_agent import Agent"
   ]
  },
  {
   "cell_type": "code",
   "execution_count": null,
   "metadata": {},
   "outputs": [],
   "source": []
  },
  {
   "cell_type": "code",
   "execution_count": 8,
   "metadata": {},
   "outputs": [],
   "source": [
    "def ddpg(n_episodes=100, max_t=1000, num_agents = num_agents, pass_score=.5, print_every = 500):\n",
    "    \n",
    "    all_scores_deque = deque(maxlen=100)\n",
    "    all_scores = []\n",
    "    for i_episode in range(1, n_episodes+1):\n",
    "        #state = env.reset()\n",
    "        env_info = env.reset(train_mode=True)[brain_name]\n",
    "        states = env_info.vector_observations\n",
    "        \n",
    "        agent.reset()\n",
    "        scores = np.zeros(num_agents)\n",
    "        \n",
    "        start_time = time.time()\n",
    "        \n",
    "        for t in range(max_t):\n",
    "            actions = agent.act(states)\n",
    "            #next_state, reward, done, _ = env.step(action)\n",
    "            env_info = env.step(actions)[brain_name]\n",
    "            next_states = env_info.vector_observations         # get next state (for each agent)\n",
    "            #print(next_state)\n",
    "            rewards = env_info.rewards                         # get reward (for each agent)\n",
    "            #print(reward)\n",
    "            dones = env_info.local_done\n",
    "            #ts = np.asarray([t]*num_agents)\n",
    "            \n",
    "            agent.step(states, actions, rewards, next_states, dones) # send actions to the agent\n",
    "            #agent.step(states, actions, rewards, next_states, dones, t)\n",
    "            states = next_states\n",
    "            #score += reward\n",
    "            scores += rewards\n",
    "            \n",
    "            agent.to_learn(t)\n",
    "            \n",
    "            if np.any(dones):\n",
    "                break \n",
    "                \n",
    "        all_scores_deque.append(np.max(scores))\n",
    "        all_scores.append(np.max(scores))\n",
    "        time_spent = time.time() - start_time\n",
    "        print('\\rEpisode {}\\tAverage Score: {:.2f}\\tTime Spent: {:.2f}'.format(i_episode, np.mean(all_scores_deque), time_spent), end=\"\")\n",
    "\n",
    "        if i_episode % print_every == 0:\n",
    "            print('\\rEpisode {}\\tAverage Score: {:.2f}'.format(i_episode, np.mean(all_scores_deque)))\n",
    "            torch.save(agent.actor_local.state_dict(), 'checkpoint_actor.pth')\n",
    "            torch.save(agent.critic_local.state_dict(), 'checkpoint_critic.pth')\n",
    "        if np.mean(all_scores_deque) >= pass_score and i_episode >= 100:\n",
    "            print('Problem Solved after {} episodes!! Total Average score: {:.2f}'.format(i_episode, np.mean(all_scores_deque)))\n",
    "            torch.save(agent.actor_local.state_dict(), 'checkpoint_actors_solved.pth')\n",
    "            torch.save(agent.critic_local.state_dict(), 'checkpoint_critic_solved.pth')\n",
    "            break    \n",
    "    return all_scores\n",
    "\n"
   ]
  },
  {
   "cell_type": "code",
   "execution_count": null,
   "metadata": {},
   "outputs": [
    {
     "name": "stdout",
     "output_type": "stream",
     "text": [
      "\r",
      "Episode 1\tAverage Score: 0.00\tTime Spent: 0.04\r",
      "Episode 2\tAverage Score: 0.00\tTime Spent: 0.03"
     ]
    },
    {
     "name": "stderr",
     "output_type": "stream",
     "text": [
      "/home/workspace/ddpg_multi_agent.py:120: UserWarning: torch.nn.utils.clip_grad_norm is now deprecated in favor of torch.nn.utils.clip_grad_norm_.\n",
      "  torch.nn.utils.clip_grad_norm(self.critic_local.parameters(), 1) #use gradient clipping\n"
     ]
    },
    {
     "name": "stdout",
     "output_type": "stream",
     "text": [
      "Episode 500\tAverage Score: 0.00\tTime Spent: 0.23\n",
      "Episode 1000\tAverage Score: 0.03\tTime Spent: 0.21\n",
      "Episode 1500\tAverage Score: 0.38\tTime Spent: 0.224\n",
      "Episode 1583\tAverage Score: 0.50\tTime Spent: 8.82Problem Solved after 1583 episodes!! Total Average score: 0.50\n",
      "Episode 500\tAverage Score: 0.00\tTime Spent: 0.20\n",
      "Episode 1000\tAverage Score: 0.00\tTime Spent: 0.21\n",
      "Episode 1500\tAverage Score: 0.04\tTime Spent: 0.20\n",
      "Episode 2000\tAverage Score: 0.09\tTime Spent: 0.46\n",
      "Episode 2500\tAverage Score: 0.38\tTime Spent: 0.254\n",
      "Episode 2524\tAverage Score: 0.51\tTime Spent: 10.68Problem Solved after 2524 episodes!! Total Average score: 0.51\n",
      "Episode 500\tAverage Score: 0.01\tTime Spent: 0.20\n",
      "Episode 1000\tAverage Score: 0.00\tTime Spent: 0.22\n",
      "Episode 1500\tAverage Score: 0.00\tTime Spent: 0.20\n",
      "Episode 2000\tAverage Score: 0.02\tTime Spent: 0.21\n",
      "Episode 2500\tAverage Score: 0.05\tTime Spent: 0.33\n",
      "Episode 3000\tAverage Score: 0.09\tTime Spent: 0.47\n",
      "Episode 3378\tAverage Score: 0.52\tTime Spent: 18.23Problem Solved after 3378 episodes!! Total Average score: 0.52\n",
      "Episode 500\tAverage Score: 0.00\tTime Spent: 0.22\n",
      "Episode 1000\tAverage Score: 0.00\tTime Spent: 0.24\n",
      "Episode 1500\tAverage Score: 0.00\tTime Spent: 0.25\n",
      "Episode 2000\tAverage Score: 0.00\tTime Spent: 0.26\n",
      "Episode 2500\tAverage Score: 0.00\tTime Spent: 0.22\n",
      "Episode 3000\tAverage Score: 0.00\tTime Spent: 0.22\n",
      "Episode 3500\tAverage Score: 0.00\tTime Spent: 0.22\n",
      "Episode 4000\tAverage Score: 0.00\tTime Spent: 0.23\n",
      "Episode 4500\tAverage Score: 0.00\tTime Spent: 0.24\n",
      "Episode 5000\tAverage Score: 0.00\tTime Spent: 0.23\n",
      "Episode 5500\tAverage Score: 0.00\tTime Spent: 0.27\n",
      "Episode 6000\tAverage Score: 0.00\tTime Spent: 0.29\n",
      "Episode 6500\tAverage Score: 0.00\tTime Spent: 0.23\n",
      "Episode 7000\tAverage Score: 0.02\tTime Spent: 0.28\n",
      "Episode 7500\tAverage Score: 0.02\tTime Spent: 0.31\n",
      "Episode 8000\tAverage Score: 0.04\tTime Spent: 0.26\n",
      "Episode 8500\tAverage Score: 0.08\tTime Spent: 0.57\n",
      "Episode 9000\tAverage Score: 0.11\tTime Spent: 0.98\n",
      "Episode 9500\tAverage Score: 0.11\tTime Spent: 1.05\n",
      "Episode 10000\tAverage Score: 0.21\tTime Spent: 1.06\n",
      "Episode 500\tAverage Score: 0.00\tTime Spent: 0.22\n",
      "Episode 1000\tAverage Score: 0.03\tTime Spent: 0.45\n",
      "Episode 1500\tAverage Score: 0.09\tTime Spent: 0.29\n",
      "Episode 2000\tAverage Score: 0.31\tTime Spent: 11.17\n",
      "Episode 2052\tAverage Score: 0.51\tTime Spent: 9.30Problem Solved after 2052 episodes!! Total Average score: 0.51\n",
      "Episode 500\tAverage Score: 0.00\tTime Spent: 0.19\n",
      "Episode 1000\tAverage Score: 0.00\tTime Spent: 0.22\n",
      "Episode 1500\tAverage Score: 0.02\tTime Spent: 0.21\n",
      "Episode 2000\tAverage Score: 0.05\tTime Spent: 0.48\n",
      "Episode 2500\tAverage Score: 0.11\tTime Spent: 0.98\n",
      "Episode 3000\tAverage Score: 0.28\tTime Spent: 4.585\n",
      "Episode 3500\tAverage Score: 0.26\tTime Spent: 5.856\n",
      "Episode 3872\tAverage Score: 0.51\tTime Spent: 19.38Problem Solved after 3872 episodes!! Total Average score: 0.51\n",
      "Episode 500\tAverage Score: 0.03\tTime Spent: 0.42\n",
      "Episode 1000\tAverage Score: 0.00\tTime Spent: 0.21\n",
      "Episode 1500\tAverage Score: 0.04\tTime Spent: 0.47\n",
      "Episode 2000\tAverage Score: 0.09\tTime Spent: 0.49\n",
      "Episode 2471\tAverage Score: 0.50\tTime Spent: 5.27Problem Solved after 2471 episodes!! Total Average score: 0.50\n",
      "Episode 500\tAverage Score: 0.00\tTime Spent: 0.22\n",
      "Episode 1000\tAverage Score: 0.02\tTime Spent: 0.22\n",
      "Episode 1500\tAverage Score: 0.03\tTime Spent: 0.87\n",
      "Episode 2000\tAverage Score: 0.12\tTime Spent: 1.92\n",
      "Episode 2500\tAverage Score: 0.38\tTime Spent: 0.878\n",
      "Episode 2718\tAverage Score: 0.51\tTime Spent: 11.81Problem Solved after 2718 episodes!! Total Average score: 0.51\n",
      "Episode 500\tAverage Score: 0.00\tTime Spent: 0.22\n",
      "Episode 1000\tAverage Score: 0.02\tTime Spent: 0.20\n",
      "Episode 1500\tAverage Score: 0.06\tTime Spent: 0.46\n",
      "Episode 2000\tAverage Score: 0.15\tTime Spent: 0.81\n",
      "Episode 2249\tAverage Score: 0.51\tTime Spent: 10.16Problem Solved after 2249 episodes!! Total Average score: 0.51\n",
      "Episode 500\tAverage Score: 0.00\tTime Spent: 0.20\n",
      "Episode 1000\tAverage Score: 0.02\tTime Spent: 0.24\n",
      "Episode 1500\tAverage Score: 0.04\tTime Spent: 0.75\n",
      "Episode 2000\tAverage Score: 0.07\tTime Spent: 0.26\n",
      "Episode 2500\tAverage Score: 0.47\tTime Spent: 1.730\n",
      "Episode 2502\tAverage Score: 0.49\tTime Spent: 1.785"
     ]
    }
   ],
   "source": [
    "from workspace_utils import active_session\n",
    "n_episodes = 10000\n",
    "seeds = range(10)\n",
    "with active_session():\n",
    "    for seed in seeds:\n",
    "        agent = Agent(state_size=state_size, action_size=action_size, num_agents = num_agents, random_seed=seed) \n",
    "        scores = ddpg(n_episodes)"
   ]
  },
  {
   "cell_type": "code",
   "execution_count": null,
   "metadata": {},
   "outputs": [],
   "source": []
  },
  {
   "cell_type": "code",
   "execution_count": 9,
   "metadata": {},
   "outputs": [],
   "source": [
    "agent = Agent(state_size=state_size, action_size=action_size, num_agents = num_agents, random_seed=0)"
   ]
  },
  {
   "cell_type": "code",
   "execution_count": 10,
   "metadata": {},
   "outputs": [
    {
     "name": "stdout",
     "output_type": "stream",
     "text": [
      "Episode 2\tAverage Score: 0.00\tTime Spent: 1.40"
     ]
    },
    {
     "name": "stderr",
     "output_type": "stream",
     "text": [
      "/home/workspace/ddpg_multi_agent.py:120: UserWarning: torch.nn.utils.clip_grad_norm is now deprecated in favor of torch.nn.utils.clip_grad_norm_.\n",
      "  torch.nn.utils.clip_grad_norm(self.critic_local.parameters(), 1) #use gradient clipping\n"
     ]
    },
    {
     "name": "stdout",
     "output_type": "stream",
     "text": [
      "Episode 500\tAverage Score: 0.01\tTime Spent: 0.24\n",
      "Episode 1000\tAverage Score: 0.06\tTime Spent: 0.52\n",
      "Episode 1500\tAverage Score: 0.11\tTime Spent: 1.32\n",
      "Episode 2000\tAverage Score: 0.26\tTime Spent: 5.55\n",
      "Episode 2284\tAverage Score: 0.51\tTime Spent: 13.91Problem Solved after 2284 episodes!! Total Average score: 0.51\n"
     ]
    }
   ],
   "source": [
    "scores = ddpg(5000)"
   ]
  },
  {
   "cell_type": "code",
   "execution_count": 15,
   "metadata": {},
   "outputs": [
    {
     "data": {
      "image/png": "[encoded data removed]",
      "text/plain": [
       "<matplotlib.figure.Figure at 0x7fc0d3932978>"
      ]
     },
     "metadata": {
      "needs_background": "light"
     },
     "output_type": "display_data"
    }
   ],
   "source": [
    "fig = plt.figure()\n",
    "ax = fig.add_subplot(111)\n",
    "plt.plot(np.arange(1, len(scores)+1), scores)\n",
    "plt.ylabel('Score')\n",
    "plt.xlabel('Episode #')\n",
    "plt.show()"
   ]
  },
  {
   "cell_type": "code",
   "execution_count": null,
   "metadata": {},
   "outputs": [],
   "source": []
  },
  {
   "cell_type": "code",
   "execution_count": 19,
   "metadata": {},
   "outputs": [],
   "source": []
  },
  {
   "cell_type": "code",
   "execution_count": null,
   "metadata": {},
   "outputs": [],
   "source": []
  },
  {
   "cell_type": "code",
   "execution_count": 4,
   "metadata": {},
   "outputs": [
    {
     "data": {
      "text/plain": [
       "tensor([[-0.8516, -1.3145, -0.0732]])"
      ]
     },
     "execution_count": 4,
     "metadata": {},
     "output_type": "execute_result"
    }
   ],
   "source": []
  },
  {
   "cell_type": "code",
   "execution_count": 6,
   "metadata": {},
   "outputs": [
    {
     "data": {
      "text/plain": [
       "tensor([[-0.8516, -1.3145, -0.0732, -0.8516, -1.3145, -0.0732, -0.8516,\n",
       "         -1.3145, -0.0732]])"
      ]
     },
     "execution_count": 6,
     "metadata": {},
     "output_type": "execute_result"
    }
   ],
   "source": []
  },
  {
   "cell_type": "code",
   "execution_count": 8,
   "metadata": {},
   "outputs": [
    {
     "data": {
      "text/plain": [
       "tensor([[-0.8516],\n",
       "        [-1.3145],\n",
       "        [-0.0732]])"
      ]
     },
     "execution_count": 8,
     "metadata": {},
     "output_type": "execute_result"
    }
   ],
   "source": []
  },
  {
   "cell_type": "code",
   "execution_count": null,
   "metadata": {},
   "outputs": [],
   "source": []
  }
 ],
 "metadata": {
  "kernelspec": {
   "display_name": "Python 3",
   "language": "python",
   "name": "python3"
  },
  "language_info": {
   "codemirror_mode": {
    "name": "ipython",
    "version": 3
   },
   "file_extension": ".py",
   "mimetype": "text/x-python",
   "name": "python",
   "nbconvert_exporter": "python",
   "pygments_lexer": "ipython3",
   "version": "3.6.3"
  }
 },
 "nbformat": 4,
 "nbformat_minor": 2
}
